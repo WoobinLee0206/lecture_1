{
 "cells": [
  {
   "cell_type": "code",
   "execution_count": 1,
   "metadata": {},
   "outputs": [
    {
     "ename": "SyntaxError",
     "evalue": "invalid syntax (<ipython-input-1-e1306fd0581c>, line 1)",
     "output_type": "error",
     "traceback": [
      "\u001b[1;36m  File \u001b[1;32m\"<ipython-input-1-e1306fd0581c>\"\u001b[1;36m, line \u001b[1;32m1\u001b[0m\n\u001b[1;33m    int Num = 100\u001b[0m\n\u001b[1;37m        ^\u001b[0m\n\u001b[1;31mSyntaxError\u001b[0m\u001b[1;31m:\u001b[0m invalid syntax\n"
     ]
    }
   ],
   "source": [
    "int Num = 100\n",
    "strData = \"안녕\"\n",
    "print(int Num + strData)"
   ]
  },
  {
   "cell_type": "code",
   "execution_count": 10,
   "metadata": {},
   "outputs": [
    {
     "name": "stdout",
     "output_type": "stream",
     "text": [
      "안녕100\n"
     ]
    }
   ],
   "source": [
    "intnum=100\n",
    "str(intnum)\n",
    "strData=\"안녕\"\n",
    "type(intnum)\n",
    "print(strData+str(intnum))"
   ]
  },
  {
   "cell_type": "code",
   "execution_count": 8,
   "metadata": {},
   "outputs": [
    {
     "data": {
      "text/plain": [
       "4"
      ]
     },
     "execution_count": 8,
     "metadata": {},
     "output_type": "execute_result"
    }
   ],
   "source": [
    "pow(2, 2)"
   ]
  },
  {
   "cell_type": "code",
   "execution_count": 9,
   "metadata": {},
   "outputs": [
    {
     "data": {
      "text/plain": [
       "1.4142135623730951"
      ]
     },
     "execution_count": 9,
     "metadata": {},
     "output_type": "execute_result"
    }
   ],
   "source": [
    "2**(1/2)"
   ]
  },
  {
   "cell_type": "code",
   "execution_count": 3,
   "metadata": {},
   "outputs": [
    {
     "name": "stdout",
     "output_type": "stream",
     "text": [
      "당신이 사는곳은?서울\n",
      "서울\n"
     ]
    }
   ],
   "source": [
    "input_data = input (\"당신이 사는곳은?\")\n",
    "print(input_data)"
   ]
  },
  {
   "cell_type": "code",
   "execution_count": 5,
   "metadata": {},
   "outputs": [
    {
     "name": "stdout",
     "output_type": "stream",
     "text": [
      "이름을 입력하세요!이우빈\n",
      "이우빈 님 반갑습니다\n"
     ]
    }
   ],
   "source": [
    "input_name = input(\"이름을 입력하세요!\")\n",
    "print(input_name , '님 반갑습니다')"
   ]
  },
  {
   "cell_type": "code",
   "execution_count": 6,
   "metadata": {},
   "outputs": [
    {
     "name": "stdout",
     "output_type": "stream",
     "text": [
      "num = 100\n",
      "num = 200\n",
      "num = 300\n"
     ]
    }
   ],
   "source": [
    "num = 100;\n",
    "print('num =', num)\n",
    "num = num + 100\n",
    "print('num =', num)\n",
    "num = num + 100\n",
    "print('num =', num)"
   ]
  },
  {
   "cell_type": "code",
   "execution_count": 7,
   "metadata": {},
   "outputs": [
    {
     "name": "stdout",
     "output_type": "stream",
     "text": [
      "num = 100\n",
      "num = 10000\n",
      "num = 1000000\n"
     ]
    }
   ],
   "source": [
    "num = 100;\n",
    "print('num =', num)\n",
    "num = num * 100\n",
    "print('num =', num)\n",
    "num = num * 100\n",
    "print('num =', num)"
   ]
  },
  {
   "cell_type": "code",
   "execution_count": 8,
   "metadata": {},
   "outputs": [
    {
     "name": "stdout",
     "output_type": "stream",
     "text": [
      "num= 100\n",
      "num= 10000\n",
      "num= 1000000\n"
     ]
    }
   ],
   "source": [
    "num = 100;\n",
    "print('num=', num)\n",
    "\n",
    "num *= 100\n",
    "print('num=', num)\n",
    "\n",
    "num = num * 100\n",
    "print('num=', num)"
   ]
  },
  {
   "cell_type": "code",
   "execution_count": null,
   "metadata": {},
   "outputs": [],
   "source": []
  }
 ],
 "metadata": {
  "kernelspec": {
   "display_name": "Python 3",
   "language": "python",
   "name": "python3"
  },
  "language_info": {
   "codemirror_mode": {
    "name": "ipython",
    "version": 3
   },
   "file_extension": ".py",
   "mimetype": "text/x-python",
   "name": "python",
   "nbconvert_exporter": "python",
   "pygments_lexer": "ipython3",
   "version": "3.8.3"
  }
 },
 "nbformat": 4,
 "nbformat_minor": 4
}
